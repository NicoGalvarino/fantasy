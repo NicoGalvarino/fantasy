{
 "cells": [
  {
   "cell_type": "code",
   "execution_count": 3,
   "id": "5fc54c55-b812-40f4-a154-1189cfb6f1e6",
   "metadata": {},
   "outputs": [],
   "source": [
    "from fantasy.tools import read_text"
   ]
  },
  {
   "cell_type": "code",
   "execution_count": 4,
   "id": "03b98cbd-6532-4c6f-9606-b7b6a9ccf57c",
   "metadata": {},
   "outputs": [],
   "source": [
    "s=read_text('/home/yukawa/Documents/tde/SN2016ezh20170820_photcal_V.txt')"
   ]
  },
  {
   "cell_type": "code",
   "execution_count": 5,
   "id": "da0aac14-4e5d-4267-803b-44ad5c5d0a10",
   "metadata": {},
   "outputs": [],
   "source": [
    "s.ra=29.519807539582\n",
    "s.dec=-0.872742349310271"
   ]
  },
  {
   "cell_type": "code",
   "execution_count": 6,
   "id": "89b103e6-8002-4710-84ce-5afae29f77ca",
   "metadata": {},
   "outputs": [],
   "source": [
    "s.z=0.0804"
   ]
  },
  {
   "cell_type": "code",
   "execution_count": 7,
   "id": "7b83c70c-100c-4163-bf8c-8f20935b24bd",
   "metadata": {},
   "outputs": [],
   "source": [
    "s.DeRedden()\n",
    "s.CorRed()"
   ]
  },
  {
   "cell_type": "code",
   "execution_count": 8,
   "id": "9c75aac7-babd-457a-adae-38066f2ee89c",
   "metadata": {},
   "outputs": [],
   "source": [
    "s.crop(4000,7000)"
   ]
  },
  {
   "cell_type": "code",
   "execution_count": 19,
   "id": "0ed0516a-411c-4d94-af50-932359c7946a",
   "metadata": {},
   "outputs": [],
   "source": [
    "import pandas as pd\n",
    "df=pd.read_csv('/home/yukawa/Downloads/385_rez.csv')\n",
    "HA=(df.broad[(s.wave>6300)&(s.wave<7000)].sum()*10)\n",
    "df1=pd.read_csv('/home/yukawa/Documents/tde/SN2016ezh20170820_photcal_V_model_fit.csv')"
   ]
  },
  {
   "cell_type": "code",
   "execution_count": 24,
   "id": "6a3b457c-83ef-43c4-921d-6aba04855ab4",
   "metadata": {},
   "outputs": [
    {
     "data": {
      "text/plain": [
       "236.40076820734635"
      ]
     },
     "execution_count": 24,
     "metadata": {},
     "output_type": "execute_result"
    }
   ],
   "source": [
    "HA"
   ]
  },
  {
   "cell_type": "code",
   "execution_count": 30,
   "id": "9db87345-25c6-4b10-a5ec-a55c5fc55d2d",
   "metadata": {},
   "outputs": [
    {
     "data": {
      "text/plain": [
       "<matplotlib.legend.Legend at 0x7f7da2b7f430>"
      ]
     },
     "execution_count": 30,
     "metadata": {},
     "output_type": "execute_result"
    },
    {
     "data": {
      "image/png": "[encoded data removed]",
      "text/plain": [
       "<Figure size 432x288 with 1 Axes>"
      ]
     },
     "metadata": {
      "needs_background": "light"
     },
     "output_type": "display_data"
    }
   ],
   "source": [
    "import matplotlib.pyplot as plt\n",
    "plt.plot(s.wave, df.broad*10, label='novo')\n",
    "plt.plot(df1.wave, df1.broad)\n",
    "plt.axvline(6300)\n",
    "plt.legend()"
   ]
  },
  {
   "cell_type": "code",
   "execution_count": 29,
   "id": "3b6b3501-943f-4609-8392-e3dd525b9351",
   "metadata": {},
   "outputs": [
    {
     "data": {
      "text/plain": [
       "148.09674258809645"
      ]
     },
     "execution_count": 29,
     "metadata": {},
     "output_type": "execute_result"
    }
   ],
   "source": [
    "(df.fe_forb+df.fe_nar).sum()*10"
   ]
  },
  {
   "cell_type": "code",
   "execution_count": 27,
   "id": "b7ddf45f-1cbc-4708-9c5a-690cf0759b6e",
   "metadata": {},
   "outputs": [
    {
     "data": {
      "text/html": [
       "<div>\n",
       "<style scoped>\n",
       "    .dataframe tbody tr th:only-of-type {\n",
       "        vertical-align: middle;\n",
       "    }\n",
       "\n",
       "    .dataframe tbody tr th {\n",
       "        vertical-align: top;\n",
       "    }\n",
       "\n",
       "    .dataframe thead th {\n",
       "        text-align: right;\n",
       "    }\n",
       "</style>\n",
       "<table border=\"1\" class=\"dataframe\">\n",
       "  <thead>\n",
       "    <tr style=\"text-align: right;\">\n",
       "      <th></th>\n",
       "      <th>Unnamed: 0</th>\n",
       "      <th>cont</th>\n",
       "      <th>broad</th>\n",
       "      <th>fe_forb</th>\n",
       "      <th>narrow</th>\n",
       "      <th>fe_nar</th>\n",
       "      <th>fe</th>\n",
       "      <th>nii1</th>\n",
       "      <th>nii2</th>\n",
       "      <th>hb</th>\n",
       "    </tr>\n",
       "  </thead>\n",
       "  <tbody>\n",
       "    <tr>\n",
       "      <th>0</th>\n",
       "      <td>0</td>\n",
       "      <td>1.509547</td>\n",
       "      <td>9.468008e-02</td>\n",
       "      <td>3.010898e-139</td>\n",
       "      <td>6.765837e-103</td>\n",
       "      <td>2.214012e-04</td>\n",
       "      <td>5.162610e-03</td>\n",
       "      <td>0.000000e+00</td>\n",
       "      <td>0.000000e+00</td>\n",
       "      <td>0.0</td>\n",
       "    </tr>\n",
       "    <tr>\n",
       "      <th>1</th>\n",
       "      <td>1</td>\n",
       "      <td>1.505382</td>\n",
       "      <td>7.882569e-02</td>\n",
       "      <td>3.233200e-132</td>\n",
       "      <td>1.720839e-97</td>\n",
       "      <td>1.414964e-04</td>\n",
       "      <td>5.115273e-03</td>\n",
       "      <td>0.000000e+00</td>\n",
       "      <td>0.000000e+00</td>\n",
       "      <td>0.0</td>\n",
       "    </tr>\n",
       "    <tr>\n",
       "      <th>2</th>\n",
       "      <td>2</td>\n",
       "      <td>1.501233</td>\n",
       "      <td>6.431848e-02</td>\n",
       "      <td>2.266941e-125</td>\n",
       "      <td>3.108273e-92</td>\n",
       "      <td>7.153671e-05</td>\n",
       "      <td>5.054730e-03</td>\n",
       "      <td>0.000000e+00</td>\n",
       "      <td>0.000000e+00</td>\n",
       "      <td>0.0</td>\n",
       "    </tr>\n",
       "    <tr>\n",
       "      <th>3</th>\n",
       "      <td>3</td>\n",
       "      <td>1.497099</td>\n",
       "      <td>5.143560e-02</td>\n",
       "      <td>1.037813e-118</td>\n",
       "      <td>3.977662e-87</td>\n",
       "      <td>2.860822e-05</td>\n",
       "      <td>4.984760e-03</td>\n",
       "      <td>0.000000e+00</td>\n",
       "      <td>0.000000e+00</td>\n",
       "      <td>0.0</td>\n",
       "    </tr>\n",
       "    <tr>\n",
       "      <th>4</th>\n",
       "      <td>4</td>\n",
       "      <td>1.492980</td>\n",
       "      <td>4.031390e-02</td>\n",
       "      <td>3.102193e-112</td>\n",
       "      <td>3.606337e-82</td>\n",
       "      <td>9.049487e-06</td>\n",
       "      <td>4.910137e-03</td>\n",
       "      <td>0.000000e+00</td>\n",
       "      <td>0.000000e+00</td>\n",
       "      <td>0.0</td>\n",
       "    </tr>\n",
       "    <tr>\n",
       "      <th>...</th>\n",
       "      <td>...</td>\n",
       "      <td>...</td>\n",
       "      <td>...</td>\n",
       "      <td>...</td>\n",
       "      <td>...</td>\n",
       "      <td>...</td>\n",
       "      <td>...</td>\n",
       "      <td>...</td>\n",
       "      <td>...</td>\n",
       "      <td>...</td>\n",
       "    </tr>\n",
       "    <tr>\n",
       "      <th>777</th>\n",
       "      <td>777</td>\n",
       "      <td>0.365075</td>\n",
       "      <td>7.983581e-12</td>\n",
       "      <td>0.000000e+00</td>\n",
       "      <td>8.041285e-125</td>\n",
       "      <td>2.501504e-297</td>\n",
       "      <td>1.318434e-08</td>\n",
       "      <td>7.097305e-202</td>\n",
       "      <td>1.748770e-241</td>\n",
       "      <td>0.0</td>\n",
       "    </tr>\n",
       "    <tr>\n",
       "      <th>778</th>\n",
       "      <td>778</td>\n",
       "      <td>0.364691</td>\n",
       "      <td>4.497571e-12</td>\n",
       "      <td>0.000000e+00</td>\n",
       "      <td>1.226779e-128</td>\n",
       "      <td>3.639963e-302</td>\n",
       "      <td>1.010873e-08</td>\n",
       "      <td>8.453630e-206</td>\n",
       "      <td>8.546392e-246</td>\n",
       "      <td>0.0</td>\n",
       "    </tr>\n",
       "    <tr>\n",
       "      <th>779</th>\n",
       "      <td>779</td>\n",
       "      <td>0.364309</td>\n",
       "      <td>2.515220e-12</td>\n",
       "      <td>0.000000e+00</td>\n",
       "      <td>1.635853e-132</td>\n",
       "      <td>4.835090e-307</td>\n",
       "      <td>7.730176e-09</td>\n",
       "      <td>9.225470e-210</td>\n",
       "      <td>3.823147e-250</td>\n",
       "      <td>0.0</td>\n",
       "    </tr>\n",
       "    <tr>\n",
       "      <th>780</th>\n",
       "      <td>780</td>\n",
       "      <td>0.363927</td>\n",
       "      <td>1.396341e-12</td>\n",
       "      <td>0.000000e+00</td>\n",
       "      <td>1.906600e-136</td>\n",
       "      <td>5.863054e-312</td>\n",
       "      <td>5.895704e-09</td>\n",
       "      <td>9.224211e-214</td>\n",
       "      <td>1.565479e-254</td>\n",
       "      <td>0.0</td>\n",
       "    </tr>\n",
       "    <tr>\n",
       "      <th>781</th>\n",
       "      <td>781</td>\n",
       "      <td>0.363546</td>\n",
       "      <td>7.694189e-13</td>\n",
       "      <td>0.000000e+00</td>\n",
       "      <td>1.938016e-140</td>\n",
       "      <td>6.472525e-317</td>\n",
       "      <td>4.484427e-09</td>\n",
       "      <td>8.431449e-218</td>\n",
       "      <td>5.853373e-259</td>\n",
       "      <td>0.0</td>\n",
       "    </tr>\n",
       "  </tbody>\n",
       "</table>\n",
       "<p>782 rows × 10 columns</p>\n",
       "</div>"
      ],
      "text/plain": [
       "     Unnamed: 0      cont         broad        fe_forb         narrow  \\\n",
       "0             0  1.509547  9.468008e-02  3.010898e-139  6.765837e-103   \n",
       "1             1  1.505382  7.882569e-02  3.233200e-132   1.720839e-97   \n",
       "2             2  1.501233  6.431848e-02  2.266941e-125   3.108273e-92   \n",
       "3             3  1.497099  5.143560e-02  1.037813e-118   3.977662e-87   \n",
       "4             4  1.492980  4.031390e-02  3.102193e-112   3.606337e-82   \n",
       "..          ...       ...           ...            ...            ...   \n",
       "777         777  0.365075  7.983581e-12   0.000000e+00  8.041285e-125   \n",
       "778         778  0.364691  4.497571e-12   0.000000e+00  1.226779e-128   \n",
       "779         779  0.364309  2.515220e-12   0.000000e+00  1.635853e-132   \n",
       "780         780  0.363927  1.396341e-12   0.000000e+00  1.906600e-136   \n",
       "781         781  0.363546  7.694189e-13   0.000000e+00  1.938016e-140   \n",
       "\n",
       "            fe_nar            fe           nii1           nii2   hb  \n",
       "0     2.214012e-04  5.162610e-03   0.000000e+00   0.000000e+00  0.0  \n",
       "1     1.414964e-04  5.115273e-03   0.000000e+00   0.000000e+00  0.0  \n",
       "2     7.153671e-05  5.054730e-03   0.000000e+00   0.000000e+00  0.0  \n",
       "3     2.860822e-05  4.984760e-03   0.000000e+00   0.000000e+00  0.0  \n",
       "4     9.049487e-06  4.910137e-03   0.000000e+00   0.000000e+00  0.0  \n",
       "..             ...           ...            ...            ...  ...  \n",
       "777  2.501504e-297  1.318434e-08  7.097305e-202  1.748770e-241  0.0  \n",
       "778  3.639963e-302  1.010873e-08  8.453630e-206  8.546392e-246  0.0  \n",
       "779  4.835090e-307  7.730176e-09  9.225470e-210  3.823147e-250  0.0  \n",
       "780  5.863054e-312  5.895704e-09  9.224211e-214  1.565479e-254  0.0  \n",
       "781  6.472525e-317  4.484427e-09  8.431449e-218  5.853373e-259  0.0  \n",
       "\n",
       "[782 rows x 10 columns]"
      ]
     },
     "execution_count": 27,
     "metadata": {},
     "output_type": "execute_result"
    }
   ],
   "source": [
    "df"
   ]
  },
  {
   "cell_type": "code",
   "execution_count": null,
   "id": "b652aafc-b2ea-45a9-9142-e177709679e0",
   "metadata": {},
   "outputs": [],
   "source": []
  },
  {
   "cell_type": "code",
   "execution_count": 7,
   "id": "a1ddabe0-601a-41ee-926c-6bd6a06407c2",
   "metadata": {},
   "outputs": [],
   "source": [
    "cnt=BrokenPowerlaw()\n",
    "Hei=Line('Hei_referntna', pos =5500)\n",
    "croad=create_tied_model(files=['hydrogen.csv', 'helium.csv', 'narrow_basic.csv'], prefix='nr',fix_oiii_ratio=True)"
   ]
  },
  {
   "cell_type": "code",
   "execution_count": 8,
   "id": "0bede894-46cb-490a-ad40-e08be35e3f4f",
   "metadata": {},
   "outputs": [
    {
     "data": {
      "text/html": [
       "<style>/*\n",
       "Copyright (C) 2020  Smithsonian Astrophysical Observatory\n",
       "\n",
       "\n",
       " This program is free software; you can redistribute it and/or modify\n",
       " it under the terms of the GNU General Public License as published by\n",
       " the Free Software Foundation; either version 3 of the License, or\n",
       " (at your option) any later version.\n",
       "\n",
       " This program is distributed in the hope that it will be useful,\n",
       " but WITHOUT ANY WARRANTY; without even the implied warranty of\n",
       " MERCHANTABILITY or FITNESS FOR A PARTICULAR PURPOSE.  See the\n",
       " GNU General Public License for more details.\n",
       "\n",
       " You should have received a copy of the GNU General Public License along\n",
       " with this program; if not, write to the Free Software Foundation, Inc.,\n",
       " 51 Franklin Street, Fifth Floor, Boston, MA 02110-1301 USA.\n",
       "\n",
       "*/\n",
       "\n",
       ":root {\n",
       "  --sherpa-border-color: var(--jp-border-color2, #e0e0e0);\n",
       "  --sherpa-background-color: var(--jp-layout-color0, white);\n",
       "  --sherpa-background-color-row-even: var(--jp-layout-color1, white);\n",
       "  --sherpa-background-color-row-odd: var(--jp-layout-color2, #eeeeee);\n",
       "\n",
       "  /* https://medium.com/ge-design/iot-cool-gray-is-a-great-background-color-for-data-visualization-ebf18c318418 */\n",
       "  --sherpa-background-color-dark1: #EBEFF2;\n",
       "  --sherpa-background-color-dark2: #D8E0E5;\n",
       "}\n",
       "\n",
       "div.sherpa-text-fallback {\n",
       "    display: none;\n",
       "}\n",
       "\n",
       "div.sherpa {\n",
       "    display: block;\n",
       "}\n",
       "\n",
       "div.sherpa details summary {\n",
       "    display: list-item;  /* needed for notebook, not lab */\n",
       "    font-size: larger;\n",
       "}\n",
       "\n",
       "div.sherpa details div.datavals {\n",
       "    display: grid;\n",
       "    grid-template-columns: 1fr 3fr;\n",
       "    column-gap: 0.5em;\n",
       "}\n",
       "\n",
       "div.sherpa div.dataname {\n",
       "    font-weight: bold;\n",
       "    border-right: 1px solid var(--sherpa-border-color);\n",
       "}\n",
       "\n",
       "div.sherpa div.dataval { }\n",
       "\n",
       "div.sherpa div.datavals div:nth-child(4n + 1) ,\n",
       "div.sherpa div.datavals div:nth-child(4n + 2) {\n",
       "    background: var(--sherpa-background-color-row-odd);\n",
       "}\n",
       "\n",
       "div.sherpa table.model tbody {\n",
       "    border-bottom: 1px solid var(--sherpa-border-color);\n",
       "}\n",
       "\n",
       "div.sherpa table.model tr.block {\n",
       "    border-top: 1px solid var(--sherpa-border-color);\n",
       "}\n",
       "\n",
       "div.sherpa table.model th.model-odd ,\n",
       "div.sherpa table.model th.model-even {\n",
       "    border-right: 1px solid var(--sherpa-border-color);\n",
       "}\n",
       "\n",
       "div.sherpa table.model th.model-odd {\n",
       "    background: var(--sherpa-background-color-dark1);\n",
       "}\n",
       "\n",
       "div.sherpa table.model th.model-even {\n",
       "    background: var(--sherpa-background-color-dark2);\n",
       "}\n",
       "\n",
       "div.sherpa .failed {\n",
       "    background: orange;\n",
       "    font-size: large;\n",
       "    padding: 1em;\n",
       "}\n",
       "</style><div class=\"sherpa-text-fallback\">&lt;BinaryOpModel model instance &#x27;(((((((((((((((((OIII5007 + nrOIII4958) + nrNII6584) + nrNIII6548) + nr_Hd_4101) + nr_Hg_4340) + nr_Hb_4861) + nr_Ha_6562) + nr_HeI_4143) + nr_HeI_4471) + nr_HeII_4685) + nr_HeI_5877) + nr_HeI_6680) + nr_[O III]_4363) + nr_[O I]_6300) + nr_[O I]_6363) + nr_[S II]_6716) + nr_[S II]_6730)&#x27;&gt;</div><div hidden class=\"sherpa\"><details open><summary>Model</summary><table class=\"model\"><caption>Expression: ((((((((((((((((OIII5007 + nrOIII4958) + nrNII6584) + nrNIII6548) + nr_Hd_4101) + nr_Hg_4340) + nr_Hb_4861) + nr_Ha_6562) + nr_HeI_4143) + nr_HeI_4471) + nr_HeII_4685) + nr_HeI_5877) + nr_HeI_6680) + nr_[O III]_4363) + nr_[O I]_6300) + nr_[O I]_6363) + nr_[S II]_6716) + nr_[S II]_6730</caption><thead><tr><th>Component</th><th>Parameter</th><th>Thawed</th><th>Value</th><th>Min</th><th>Max</th><th>Units</th></tr></thead><tbody><tr><th class=\"model-odd\" scope=\"rowgroup\" rowspan=4>OIII5007</th><td>ampl</td><td><input disabled type=\"checkbox\" checked></input></td><td>10.0</td><td>0.0</td><td>1000.0</td><td></td></tr><tr><td>pos</td><td><input disabled type=\"checkbox\"></input></td><td>5006.803341</td><td>0.0</td><td>MAX</td><td>angstroms</td></tr><tr><td>offs_kms</td><td><input disabled type=\"checkbox\" checked></input></td><td>0.0</td><td>-1000.0</td><td>10000.0</td><td>km/s</td></tr><tr><td>fwhm</td><td><input disabled type=\"checkbox\" checked></input></td><td>100.0</td><td>0.0</td><td>1000.0</td><td>km/s</td></tr><tr class=\"block\"><th class=\"model-even\" scope=\"rowgroup\" rowspan=4>nrOIII4958</th><td>ampl</td><td>linked</td><td>3.3333333333333335</td><td colspan=2>&#8656; OIII5007.ampl / 3.0</td><td></td></tr><tr><td>pos</td><td><input disabled type=\"checkbox\"></input></td><td>4958.896072</td><td>0.0</td><td>MAX</td><td>angstroms</td></tr><tr><td>offs_kms</td><td>linked</td><td>0.0</td><td colspan=2>&#8656; OIII5007.offs_kms</td><td>km/s</td></tr><tr><td>fwhm</td><td>linked</td><td>100.0</td><td colspan=2>&#8656; OIII5007.fwhm</td><td>km/s</td></tr><tr class=\"block\"><th class=\"model-odd\" scope=\"rowgroup\" rowspan=4>nrNII6584</th><td>ampl</td><td><input disabled type=\"checkbox\" checked></input></td><td>2.0</td><td>0.0</td><td>1000.0</td><td></td></tr><tr><td>pos</td><td><input disabled type=\"checkbox\"></input></td><td>6583.46</td><td>0.0</td><td>MAX</td><td>angstroms</td></tr><tr><td>offs_kms</td><td>linked</td><td>0.0</td><td colspan=2>&#8656; OIII5007.offs_kms</td><td>km/s</td></tr><tr><td>fwhm</td><td>linked</td><td>100.0</td><td colspan=2>&#8656; OIII5007.fwhm</td><td>km/s</td></tr><tr class=\"block\"><th class=\"model-even\" scope=\"rowgroup\" rowspan=4>nrNIII6548</th><td>ampl</td><td>linked</td><td>0.6666666666666666</td><td colspan=2>&#8656; nrNII6584.ampl / 3.0</td><td></td></tr><tr><td>pos</td><td><input disabled type=\"checkbox\"></input></td><td>6548.05</td><td>0.0</td><td>MAX</td><td>angstroms</td></tr><tr><td>offs_kms</td><td>linked</td><td>0.0</td><td colspan=2>&#8656; OIII5007.offs_kms</td><td>km/s</td></tr><tr><td>fwhm</td><td>linked</td><td>100.0</td><td colspan=2>&#8656; OIII5007.fwhm</td><td>km/s</td></tr><tr class=\"block\"><th class=\"model-odd\" scope=\"rowgroup\" rowspan=4>nr_Hd_4101</th><td>ampl</td><td><input disabled type=\"checkbox\" checked></input></td><td>2.0</td><td>0.0</td><td>1000.0</td><td></td></tr><tr><td>pos</td><td><input disabled type=\"checkbox\"></input></td><td>4101.742</td><td>0.0</td><td>MAX</td><td>angstroms</td></tr><tr><td>offs_kms</td><td>linked</td><td>0.0</td><td colspan=2>&#8656; OIII5007.offs_kms</td><td>km/s</td></tr><tr><td>fwhm</td><td>linked</td><td>100.0</td><td colspan=2>&#8656; OIII5007.fwhm</td><td>km/s</td></tr><tr class=\"block\"><th class=\"model-even\" scope=\"rowgroup\" rowspan=4>nr_Hg_4340</th><td>ampl</td><td><input disabled type=\"checkbox\" checked></input></td><td>2.0</td><td>0.0</td><td>1000.0</td><td></td></tr><tr><td>pos</td><td><input disabled type=\"checkbox\"></input></td><td>4340.471</td><td>0.0</td><td>MAX</td><td>angstroms</td></tr><tr><td>offs_kms</td><td>linked</td><td>0.0</td><td colspan=2>&#8656; OIII5007.offs_kms</td><td>km/s</td></tr><tr><td>fwhm</td><td>linked</td><td>100.0</td><td colspan=2>&#8656; OIII5007.fwhm</td><td>km/s</td></tr><tr class=\"block\"><th class=\"model-odd\" scope=\"rowgroup\" rowspan=4>nr_Hb_4861</th><td>ampl</td><td><input disabled type=\"checkbox\" checked></input></td><td>2.0</td><td>0.0</td><td>1000.0</td><td></td></tr><tr><td>pos</td><td><input disabled type=\"checkbox\"></input></td><td>4861.333</td><td>0.0</td><td>MAX</td><td>angstroms</td></tr><tr><td>offs_kms</td><td>linked</td><td>0.0</td><td colspan=2>&#8656; OIII5007.offs_kms</td><td>km/s</td></tr><tr><td>fwhm</td><td>linked</td><td>100.0</td><td colspan=2>&#8656; OIII5007.fwhm</td><td>km/s</td></tr><tr class=\"block\"><th class=\"model-even\" scope=\"rowgroup\" rowspan=4>nr_Ha_6562</th><td>ampl</td><td><input disabled type=\"checkbox\" checked></input></td><td>2.0</td><td>0.0</td><td>1000.0</td><td></td></tr><tr><td>pos</td><td><input disabled type=\"checkbox\"></input></td><td>6562.82</td><td>0.0</td><td>MAX</td><td>angstroms</td></tr><tr><td>offs_kms</td><td>linked</td><td>0.0</td><td colspan=2>&#8656; OIII5007.offs_kms</td><td>km/s</td></tr><tr><td>fwhm</td><td>linked</td><td>100.0</td><td colspan=2>&#8656; OIII5007.fwhm</td><td>km/s</td></tr><tr class=\"block\"><th class=\"model-odd\" scope=\"rowgroup\" rowspan=4>nr_HeI_4143</th><td>ampl</td><td><input disabled type=\"checkbox\" checked></input></td><td>2.0</td><td>0.0</td><td>1000.0</td><td></td></tr><tr><td>pos</td><td><input disabled type=\"checkbox\"></input></td><td>4143.761</td><td>0.0</td><td>MAX</td><td>angstroms</td></tr><tr><td>offs_kms</td><td>linked</td><td>0.0</td><td colspan=2>&#8656; OIII5007.offs_kms</td><td>km/s</td></tr><tr><td>fwhm</td><td>linked</td><td>100.0</td><td colspan=2>&#8656; OIII5007.fwhm</td><td>km/s</td></tr><tr class=\"block\"><th class=\"model-even\" scope=\"rowgroup\" rowspan=4>nr_HeI_4471</th><td>ampl</td><td><input disabled type=\"checkbox\" checked></input></td><td>2.0</td><td>0.0</td><td>1000.0</td><td></td></tr><tr><td>pos</td><td><input disabled type=\"checkbox\"></input></td><td>4471.479</td><td>0.0</td><td>MAX</td><td>angstroms</td></tr><tr><td>offs_kms</td><td>linked</td><td>0.0</td><td colspan=2>&#8656; OIII5007.offs_kms</td><td>km/s</td></tr><tr><td>fwhm</td><td>linked</td><td>100.0</td><td colspan=2>&#8656; OIII5007.fwhm</td><td>km/s</td></tr><tr class=\"block\"><th class=\"model-odd\" scope=\"rowgroup\" rowspan=4>nr_HeII_4685</th><td>ampl</td><td><input disabled type=\"checkbox\" checked></input></td><td>2.0</td><td>0.0</td><td>1000.0</td><td></td></tr><tr><td>pos</td><td><input disabled type=\"checkbox\"></input></td><td>4685.71</td><td>0.0</td><td>MAX</td><td>angstroms</td></tr><tr><td>offs_kms</td><td>linked</td><td>0.0</td><td colspan=2>&#8656; OIII5007.offs_kms</td><td>km/s</td></tr><tr><td>fwhm</td><td>linked</td><td>100.0</td><td colspan=2>&#8656; OIII5007.fwhm</td><td>km/s</td></tr><tr class=\"block\"><th class=\"model-even\" scope=\"rowgroup\" rowspan=4>nr_HeI_5877</th><td>ampl</td><td><input disabled type=\"checkbox\" checked></input></td><td>2.0</td><td>0.0</td><td>1000.0</td><td></td></tr><tr><td>pos</td><td><input disabled type=\"checkbox\"></input></td><td>5877.2539</td><td>0.0</td><td>MAX</td><td>angstroms</td></tr><tr><td>offs_kms</td><td>linked</td><td>0.0</td><td colspan=2>&#8656; OIII5007.offs_kms</td><td>km/s</td></tr><tr><td>fwhm</td><td>linked</td><td>100.0</td><td colspan=2>&#8656; OIII5007.fwhm</td><td>km/s</td></tr><tr class=\"block\"><th class=\"model-odd\" scope=\"rowgroup\" rowspan=4>nr_HeI_6680</th><td>ampl</td><td><input disabled type=\"checkbox\" checked></input></td><td>2.0</td><td>0.0</td><td>1000.0</td><td></td></tr><tr><td>pos</td><td><input disabled type=\"checkbox\"></input></td><td>6680.0078</td><td>0.0</td><td>MAX</td><td>angstroms</td></tr><tr><td>offs_kms</td><td>linked</td><td>0.0</td><td colspan=2>&#8656; OIII5007.offs_kms</td><td>km/s</td></tr><tr><td>fwhm</td><td>linked</td><td>100.0</td><td colspan=2>&#8656; OIII5007.fwhm</td><td>km/s</td></tr><tr class=\"block\"><th class=\"model-even\" scope=\"rowgroup\" rowspan=4>nr_[O III]_4363</th><td>ampl</td><td><input disabled type=\"checkbox\" checked></input></td><td>2.0</td><td>0.0</td><td>1000.0</td><td></td></tr><tr><td>pos</td><td><input disabled type=\"checkbox\"></input></td><td>4363.213686</td><td>0.0</td><td>MAX</td><td>angstroms</td></tr><tr><td>offs_kms</td><td>linked</td><td>0.0</td><td colspan=2>&#8656; OIII5007.offs_kms</td><td>km/s</td></tr><tr><td>fwhm</td><td>linked</td><td>100.0</td><td colspan=2>&#8656; OIII5007.fwhm</td><td>km/s</td></tr><tr class=\"block\"><th class=\"model-odd\" scope=\"rowgroup\" rowspan=4>nr_[O I]_6300</th><td>ampl</td><td><input disabled type=\"checkbox\" checked></input></td><td>2.0</td><td>0.0</td><td>1000.0</td><td></td></tr><tr><td>pos</td><td><input disabled type=\"checkbox\"></input></td><td>6300.304</td><td>0.0</td><td>MAX</td><td>angstroms</td></tr><tr><td>offs_kms</td><td>linked</td><td>0.0</td><td colspan=2>&#8656; OIII5007.offs_kms</td><td>km/s</td></tr><tr><td>fwhm</td><td>linked</td><td>100.0</td><td colspan=2>&#8656; OIII5007.fwhm</td><td>km/s</td></tr><tr class=\"block\"><th class=\"model-even\" scope=\"rowgroup\" rowspan=4>nr_[O I]_6363</th><td>ampl</td><td><input disabled type=\"checkbox\" checked></input></td><td>2.0</td><td>0.0</td><td>1000.0</td><td></td></tr><tr><td>pos</td><td><input disabled type=\"checkbox\"></input></td><td>6363.8</td><td>0.0</td><td>MAX</td><td>angstroms</td></tr><tr><td>offs_kms</td><td>linked</td><td>0.0</td><td colspan=2>&#8656; OIII5007.offs_kms</td><td>km/s</td></tr><tr><td>fwhm</td><td>linked</td><td>100.0</td><td colspan=2>&#8656; OIII5007.fwhm</td><td>km/s</td></tr><tr class=\"block\"><th class=\"model-odd\" scope=\"rowgroup\" rowspan=4>nr_[S II]_6716</th><td>ampl</td><td><input disabled type=\"checkbox\" checked></input></td><td>2.0</td><td>0.0</td><td>1000.0</td><td></td></tr><tr><td>pos</td><td><input disabled type=\"checkbox\"></input></td><td>6716.44</td><td>0.0</td><td>MAX</td><td>angstroms</td></tr><tr><td>offs_kms</td><td>linked</td><td>0.0</td><td colspan=2>&#8656; OIII5007.offs_kms</td><td>km/s</td></tr><tr><td>fwhm</td><td>linked</td><td>100.0</td><td colspan=2>&#8656; OIII5007.fwhm</td><td>km/s</td></tr><tr class=\"block\"><th class=\"model-even\" scope=\"rowgroup\" rowspan=4>nr_[S II]_6730</th><td>ampl</td><td><input disabled type=\"checkbox\" checked></input></td><td>2.0</td><td>0.0</td><td>1000.0</td><td></td></tr><tr><td>pos</td><td><input disabled type=\"checkbox\"></input></td><td>6730.81</td><td>0.0</td><td>MAX</td><td>angstroms</td></tr><tr><td>offs_kms</td><td>linked</td><td>0.0</td><td colspan=2>&#8656; OIII5007.offs_kms</td><td>km/s</td></tr><tr><td>fwhm</td><td>linked</td><td>100.0</td><td colspan=2>&#8656; OIII5007.fwhm</td><td>km/s</td></tr></tbody></table></details></div>"
      ],
      "text/plain": [
       "<BinaryOpModel model instance '(((((((((((((((((OIII5007 + nrOIII4958) + nrNII6584) + nrNIII6548) + nr_Hd_4101) + nr_Hg_4340) + nr_Hb_4861) + nr_Ha_6562) + nr_HeI_4143) + nr_HeI_4471) + nr_HeII_4685) + nr_HeI_5877) + nr_HeI_6680) + nr_[O III]_4363) + nr_[O I]_6300) + nr_[O I]_6363) + nr_[S II]_6716) + nr_[S II]_6730)'>"
      ]
     },
     "execution_count": 8,
     "metadata": {},
     "output_type": "execute_result"
    }
   ],
   "source": [
    "croad"
   ]
  },
  {
   "cell_type": "code",
   "execution_count": 10,
   "id": "aee4947a-06a6-4720-b200-d00edacd6be2",
   "metadata": {},
   "outputs": [],
   "source": [
    "import pandas as pd"
   ]
  },
  {
   "cell_type": "code",
   "execution_count": 11,
   "id": "55ae6b3f-f1c5-43ea-b741-22c33a044b27",
   "metadata": {},
   "outputs": [],
   "source": [
    "df1=pd.read_csv('/home/yukawa/Downloads/hydrogen.csv')"
   ]
  },
  {
   "cell_type": "code",
   "execution_count": 12,
   "id": "23737803-875c-4d1d-843c-fe5cef21d528",
   "metadata": {},
   "outputs": [],
   "source": [
    "df2=pd.read_csv('/home/yukawa/Downloads/helium.csv')\n"
   ]
  },
  {
   "cell_type": "code",
   "execution_count": 13,
   "id": "f0edb8e9-2e86-4f4e-80c0-de7f37d2f411",
   "metadata": {},
   "outputs": [],
   "source": [
    "files=['/home/yukawa/Downloads/hydrogen.csv']\n"
   ]
  },
  {
   "cell_type": "code",
   "execution_count": 14,
   "id": "1aed9666-9146-4ead-9a7d-21458047710e",
   "metadata": {},
   "outputs": [],
   "source": [
    "F=[]\n",
    "for file in files:\n",
    "    F.append(pd.read_csv(file))\n",
    "    "
   ]
  },
  {
   "cell_type": "code",
   "execution_count": 15,
   "id": "4575fb03-56da-4c44-ab23-75e148099d47",
   "metadata": {},
   "outputs": [],
   "source": [
    "df=pd.concat(F)"
   ]
  },
  {
   "cell_type": "code",
   "execution_count": 16,
   "id": "b026f8a9-81fd-4240-9914-ff2ba9113cd7",
   "metadata": {},
   "outputs": [
    {
     "data": {
      "text/html": [
       "<div>\n",
       "<style scoped>\n",
       "    .dataframe tbody tr th:only-of-type {\n",
       "        vertical-align: middle;\n",
       "    }\n",
       "\n",
       "    .dataframe tbody tr th {\n",
       "        vertical-align: top;\n",
       "    }\n",
       "\n",
       "    .dataframe thead th {\n",
       "        text-align: right;\n",
       "    }\n",
       "</style>\n",
       "<table border=\"1\" class=\"dataframe\">\n",
       "  <thead>\n",
       "    <tr style=\"text-align: right;\">\n",
       "      <th></th>\n",
       "      <th>line</th>\n",
       "      <th>position</th>\n",
       "    </tr>\n",
       "  </thead>\n",
       "  <tbody>\n",
       "    <tr>\n",
       "      <th>0</th>\n",
       "      <td>Heps</td>\n",
       "      <td>3970.079</td>\n",
       "    </tr>\n",
       "    <tr>\n",
       "      <th>1</th>\n",
       "      <td>Hd</td>\n",
       "      <td>4101.742</td>\n",
       "    </tr>\n",
       "    <tr>\n",
       "      <th>2</th>\n",
       "      <td>Hg</td>\n",
       "      <td>4340.471</td>\n",
       "    </tr>\n",
       "    <tr>\n",
       "      <th>3</th>\n",
       "      <td>Hb</td>\n",
       "      <td>4861.333</td>\n",
       "    </tr>\n",
       "    <tr>\n",
       "      <th>4</th>\n",
       "      <td>Ha</td>\n",
       "      <td>6562.820</td>\n",
       "    </tr>\n",
       "    <tr>\n",
       "      <th>5</th>\n",
       "      <td>Pa14</td>\n",
       "      <td>8598.392</td>\n",
       "    </tr>\n",
       "    <tr>\n",
       "      <th>6</th>\n",
       "      <td>Pa13</td>\n",
       "      <td>8665.019</td>\n",
       "    </tr>\n",
       "    <tr>\n",
       "      <th>7</th>\n",
       "      <td>Pa12</td>\n",
       "      <td>8750.472</td>\n",
       "    </tr>\n",
       "    <tr>\n",
       "      <th>8</th>\n",
       "      <td>Pa11</td>\n",
       "      <td>8862.782</td>\n",
       "    </tr>\n",
       "    <tr>\n",
       "      <th>9</th>\n",
       "      <td>Pa10</td>\n",
       "      <td>9014.909</td>\n",
       "    </tr>\n",
       "    <tr>\n",
       "      <th>10</th>\n",
       "      <td>Pa9</td>\n",
       "      <td>9229.014</td>\n",
       "    </tr>\n",
       "    <tr>\n",
       "      <th>11</th>\n",
       "      <td>Pae</td>\n",
       "      <td>9545.969</td>\n",
       "    </tr>\n",
       "    <tr>\n",
       "      <th>12</th>\n",
       "      <td>Pa􏰏d</td>\n",
       "      <td>10049.368</td>\n",
       "    </tr>\n",
       "    <tr>\n",
       "      <th>13</th>\n",
       "      <td>Pag</td>\n",
       "      <td>10938.086</td>\n",
       "    </tr>\n",
       "  </tbody>\n",
       "</table>\n",
       "</div>"
      ],
      "text/plain": [
       "    line   position\n",
       "0   Heps   3970.079\n",
       "1     Hd   4101.742\n",
       "2     Hg   4340.471\n",
       "3     Hb   4861.333\n",
       "4     Ha   6562.820\n",
       "5   Pa14   8598.392\n",
       "6   Pa13   8665.019\n",
       "7   Pa12   8750.472\n",
       "8   Pa11   8862.782\n",
       "9   Pa10   9014.909\n",
       "10   Pa9   9229.014\n",
       "11   Pae   9545.969\n",
       "12  Pa􏰏d  10049.368\n",
       "13   Pag  10938.086"
      ]
     },
     "execution_count": 16,
     "metadata": {},
     "output_type": "execute_result"
    }
   ],
   "source": [
    "df.sort_values(by='position')"
   ]
  },
  {
   "cell_type": "code",
   "execution_count": null,
   "id": "e0370ace-f27b-4a4b-9d77-a84f74bf74b1",
   "metadata": {},
   "outputs": [],
   "source": [
    "create_model(files=['1.csv','2.csv'], prefix, fixed_oIII)\n",
    "if len files > 1\n"
   ]
  },
  {
   "cell_type": "code",
   "execution_count": 9,
   "id": "ec12450d-1440-4ba8-a3ad-e3c84c91daaf",
   "metadata": {},
   "outputs": [],
   "source": [
    "import pandas as pd"
   ]
  },
  {
   "cell_type": "code",
   "execution_count": 10,
   "id": "0621e6a0-1e8f-4deb-b06c-7c4262466c8e",
   "metadata": {},
   "outputs": [],
   "source": [
    "df=pd.read_csv('/home/yukawa/Downloads/rakshit.csv')"
   ]
  },
  {
   "cell_type": "code",
   "execution_count": 11,
   "id": "f7c9db7c-7591-45a1-a106-021c8535b719",
   "metadata": {},
   "outputs": [
    {
     "data": {
      "text/html": [
       "<div>\n",
       "<style scoped>\n",
       "    .dataframe tbody tr th:only-of-type {\n",
       "        vertical-align: middle;\n",
       "    }\n",
       "\n",
       "    .dataframe tbody tr th {\n",
       "        vertical-align: top;\n",
       "    }\n",
       "\n",
       "    .dataframe thead th {\n",
       "        text-align: right;\n",
       "    }\n",
       "</style>\n",
       "<table border=\"1\" class=\"dataframe\">\n",
       "  <thead>\n",
       "    <tr style=\"text-align: right;\">\n",
       "      <th></th>\n",
       "      <th>Unnamed: 0</th>\n",
       "      <th>rfe</th>\n",
       "      <th>hbfwhm</th>\n",
       "    </tr>\n",
       "  </thead>\n",
       "  <tbody>\n",
       "    <tr>\n",
       "      <th>count</th>\n",
       "      <td>11101.000000</td>\n",
       "      <td>11101.000000</td>\n",
       "      <td>11101.000000</td>\n",
       "    </tr>\n",
       "    <tr>\n",
       "      <th>mean</th>\n",
       "      <td>5550.000000</td>\n",
       "      <td>0.647767</td>\n",
       "      <td>1634.189082</td>\n",
       "    </tr>\n",
       "    <tr>\n",
       "      <th>std</th>\n",
       "      <td>3204.727003</td>\n",
       "      <td>0.403370</td>\n",
       "      <td>430.475523</td>\n",
       "    </tr>\n",
       "    <tr>\n",
       "      <th>min</th>\n",
       "      <td>0.000000</td>\n",
       "      <td>0.000000</td>\n",
       "      <td>308.000000</td>\n",
       "    </tr>\n",
       "    <tr>\n",
       "      <th>25%</th>\n",
       "      <td>2775.000000</td>\n",
       "      <td>0.370000</td>\n",
       "      <td>1371.000000</td>\n",
       "    </tr>\n",
       "    <tr>\n",
       "      <th>50%</th>\n",
       "      <td>5550.000000</td>\n",
       "      <td>0.600000</td>\n",
       "      <td>1737.000000</td>\n",
       "    </tr>\n",
       "    <tr>\n",
       "      <th>75%</th>\n",
       "      <td>8325.000000</td>\n",
       "      <td>0.870000</td>\n",
       "      <td>1980.000000</td>\n",
       "    </tr>\n",
       "    <tr>\n",
       "      <th>max</th>\n",
       "      <td>11100.000000</td>\n",
       "      <td>4.560000</td>\n",
       "      <td>2200.000000</td>\n",
       "    </tr>\n",
       "  </tbody>\n",
       "</table>\n",
       "</div>"
      ],
      "text/plain": [
       "         Unnamed: 0           rfe        hbfwhm\n",
       "count  11101.000000  11101.000000  11101.000000\n",
       "mean    5550.000000      0.647767   1634.189082\n",
       "std     3204.727003      0.403370    430.475523\n",
       "min        0.000000      0.000000    308.000000\n",
       "25%     2775.000000      0.370000   1371.000000\n",
       "50%     5550.000000      0.600000   1737.000000\n",
       "75%     8325.000000      0.870000   1980.000000\n",
       "max    11100.000000      4.560000   2200.000000"
      ]
     },
     "execution_count": 11,
     "metadata": {},
     "output_type": "execute_result"
    }
   ],
   "source": [
    "df.describe()"
   ]
  },
  {
   "cell_type": "code",
   "execution_count": 5,
   "id": "e39612ed-0605-4f0c-8d8d-0b6fde76ad3f",
   "metadata": {},
   "outputs": [
    {
     "name": "stdout",
     "output_type": "stream",
     "text": [
      "0\n",
      "1\n",
      "2\n"
     ]
    }
   ],
   "source": [
    "i=0\n",
    "while i <=3:\n",
    "    print(i)\n",
    "    if i==2:\n",
    "        break\n",
    "    i+=1"
   ]
  },
  {
   "cell_type": "code",
   "execution_count": null,
   "id": "c694b4a7-9eb8-4081-b6bb-20b5338015f4",
   "metadata": {},
   "outputs": [],
   "source": []
  }
 ],
 "metadata": {
  "kernelspec": {
   "display_name": "Python 3 (ipykernel)",
   "language": "python",
   "name": "python3"
  },
  "language_info": {
   "codemirror_mode": {
    "name": "ipython",
    "version": 3
   },
   "file_extension": ".py",
   "mimetype": "text/x-python",
   "name": "python",
   "nbconvert_exporter": "python",
   "pygments_lexer": "ipython3",
   "version": "3.9.7"
  }
 },
 "nbformat": 4,
 "nbformat_minor": 5
}
