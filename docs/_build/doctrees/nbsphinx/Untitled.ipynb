{
 "cells": [
  {
   "cell_type": "code",
   "execution_count": 5,
   "id": "5fc54c55-b812-40f4-a154-1189cfb6f1e6",
   "metadata": {},
   "outputs": [],
   "source": [
    "from fantasy.tools import read_sdss"
   ]
  },
  {
   "cell_type": "code",
   "execution_count": 6,
   "id": "da0aac14-4e5d-4267-803b-44ad5c5d0a10",
   "metadata": {},
   "outputs": [
    {
     "ename": "ImportError",
     "evalue": "cannot import name 'make_path' from 'fantasy.models' (/home/yukawa/anaconda3/lib/python3.9/site-packages/fantasy/models.py)",
     "output_type": "error",
     "traceback": [
      "\u001b[0;31m---------------------------------------------------------------------------\u001b[0m",
      "\u001b[0;31mImportError\u001b[0m                               Traceback (most recent call last)",
      "\u001b[0;32m/tmp/ipykernel_4073/587913545.py\u001b[0m in \u001b[0;36m<module>\u001b[0;34m\u001b[0m\n\u001b[0;32m----> 1\u001b[0;31m \u001b[0;32mfrom\u001b[0m \u001b[0mfantasy\u001b[0m\u001b[0;34m.\u001b[0m\u001b[0mmodels\u001b[0m \u001b[0;32mimport\u001b[0m \u001b[0mmake_path\u001b[0m\u001b[0;34m,\u001b[0m \u001b[0mLine\u001b[0m\u001b[0;34m,\u001b[0m \u001b[0mcreate_tied_model\u001b[0m\u001b[0;34m,\u001b[0m \u001b[0mBrokenPowerlaw\u001b[0m\u001b[0;34m\u001b[0m\u001b[0;34m\u001b[0m\u001b[0m\n\u001b[0m",
      "\u001b[0;31mImportError\u001b[0m: cannot import name 'make_path' from 'fantasy.models' (/home/yukawa/anaconda3/lib/python3.9/site-packages/fantasy/models.py)"
     ]
    }
   ],
   "source": [
    "from fantasy.models import make_path, Line, create_tied_model, BrokenPowerlaw"
   ]
  },
  {
   "cell_type": "code",
   "execution_count": 3,
   "id": "89b103e6-8002-4710-84ce-5afae29f77ca",
   "metadata": {},
   "outputs": [],
   "source": [
    "s=read_sdss('/home/yukawa/Downloads/spec-0276-51909-0251.fits')"
   ]
  },
  {
   "cell_type": "code",
   "execution_count": 4,
   "id": "7b83c70c-100c-4163-bf8c-8f20935b24bd",
   "metadata": {},
   "outputs": [],
   "source": [
    "s.DeRedden()\n",
    "s.CorRed()"
   ]
  },
  {
   "cell_type": "code",
   "execution_count": 5,
   "id": "9c75aac7-babd-457a-adae-38066f2ee89c",
   "metadata": {},
   "outputs": [],
   "source": [
    "s.crop(4000,7000)"
   ]
  },
  {
   "cell_type": "code",
   "execution_count": 6,
   "id": "0ed0516a-411c-4d94-af50-932359c7946a",
   "metadata": {},
   "outputs": [
    {
     "name": "stdout",
     "output_type": "stream",
     "text": [
      "/home/yukawa/anaconda3/lib/python3.9/site-packages/fantasy/input\n",
      "Directory  /home/yukawa/Downloads/spec-0276-51909-0251  already exists\n",
      "global /home/yukawa/Downloads/spec-0276-51909-0251/\n"
     ]
    }
   ],
   "source": [
    "make_path(s)"
   ]
  },
  {
   "cell_type": "code",
   "execution_count": 7,
   "id": "a1ddabe0-601a-41ee-926c-6bd6a06407c2",
   "metadata": {},
   "outputs": [],
   "source": [
    "cnt=BrokenPowerlaw()\n",
    "Hei=Line('Hei_referntna', pos =5500)\n",
    "croad=create_tied_model(files=['hydrogen.csv', 'helium.csv', 'narrow_basic.csv'], prefix='nr',fix_oiii_ratio=True)"
   ]
  },
  {
   "cell_type": "code",
   "execution_count": 8,
   "id": "0bede894-46cb-490a-ad40-e08be35e3f4f",
   "metadata": {},
   "outputs": [
    {
     "data": {
      "text/html": [
       "<style>/*\n",
       "Copyright (C) 2020  Smithsonian Astrophysical Observatory\n",
       "\n",
       "\n",
       " This program is free software; you can redistribute it and/or modify\n",
       " it under the terms of the GNU General Public License as published by\n",
       " the Free Software Foundation; either version 3 of the License, or\n",
       " (at your option) any later version.\n",
       "\n",
       " This program is distributed in the hope that it will be useful,\n",
       " but WITHOUT ANY WARRANTY; without even the implied warranty of\n",
       " MERCHANTABILITY or FITNESS FOR A PARTICULAR PURPOSE.  See the\n",
       " GNU General Public License for more details.\n",
       "\n",
       " You should have received a copy of the GNU General Public License along\n",
       " with this program; if not, write to the Free Software Foundation, Inc.,\n",
       " 51 Franklin Street, Fifth Floor, Boston, MA 02110-1301 USA.\n",
       "\n",
       "*/\n",
       "\n",
       ":root {\n",
       "  --sherpa-border-color: var(--jp-border-color2, #e0e0e0);\n",
       "  --sherpa-background-color: var(--jp-layout-color0, white);\n",
       "  --sherpa-background-color-row-even: var(--jp-layout-color1, white);\n",
       "  --sherpa-background-color-row-odd: var(--jp-layout-color2, #eeeeee);\n",
       "\n",
       "  /* https://medium.com/ge-design/iot-cool-gray-is-a-great-background-color-for-data-visualization-ebf18c318418 */\n",
       "  --sherpa-background-color-dark1: #EBEFF2;\n",
       "  --sherpa-background-color-dark2: #D8E0E5;\n",
       "}\n",
       "\n",
       "div.sherpa-text-fallback {\n",
       "    display: none;\n",
       "}\n",
       "\n",
       "div.sherpa {\n",
       "    display: block;\n",
       "}\n",
       "\n",
       "div.sherpa details summary {\n",
       "    display: list-item;  /* needed for notebook, not lab */\n",
       "    font-size: larger;\n",
       "}\n",
       "\n",
       "div.sherpa details div.datavals {\n",
       "    display: grid;\n",
       "    grid-template-columns: 1fr 3fr;\n",
       "    column-gap: 0.5em;\n",
       "}\n",
       "\n",
       "div.sherpa div.dataname {\n",
       "    font-weight: bold;\n",
       "    border-right: 1px solid var(--sherpa-border-color);\n",
       "}\n",
       "\n",
       "div.sherpa div.dataval { }\n",
       "\n",
       "div.sherpa div.datavals div:nth-child(4n + 1) ,\n",
       "div.sherpa div.datavals div:nth-child(4n + 2) {\n",
       "    background: var(--sherpa-background-color-row-odd);\n",
       "}\n",
       "\n",
       "div.sherpa table.model tbody {\n",
       "    border-bottom: 1px solid var(--sherpa-border-color);\n",
       "}\n",
       "\n",
       "div.sherpa table.model tr.block {\n",
       "    border-top: 1px solid var(--sherpa-border-color);\n",
       "}\n",
       "\n",
       "div.sherpa table.model th.model-odd ,\n",
       "div.sherpa table.model th.model-even {\n",
       "    border-right: 1px solid var(--sherpa-border-color);\n",
       "}\n",
       "\n",
       "div.sherpa table.model th.model-odd {\n",
       "    background: var(--sherpa-background-color-dark1);\n",
       "}\n",
       "\n",
       "div.sherpa table.model th.model-even {\n",
       "    background: var(--sherpa-background-color-dark2);\n",
       "}\n",
       "\n",
       "div.sherpa .failed {\n",
       "    background: orange;\n",
       "    font-size: large;\n",
       "    padding: 1em;\n",
       "}\n",
       "</style><div class=\"sherpa-text-fallback\">&lt;BinaryOpModel model instance &#x27;(((((((((((((((((OIII5007 + nrOIII4958) + nrNII6584) + nrNIII6548) + nr_Hd_4101) + nr_Hg_4340) + nr_Hb_4861) + nr_Ha_6562) + nr_HeI_4143) + nr_HeI_4471) + nr_HeII_4685) + nr_HeI_5877) + nr_HeI_6680) + nr_[O III]_4363) + nr_[O I]_6300) + nr_[O I]_6363) + nr_[S II]_6716) + nr_[S II]_6730)&#x27;&gt;</div><div hidden class=\"sherpa\"><details open><summary>Model</summary><table class=\"model\"><caption>Expression: ((((((((((((((((OIII5007 + nrOIII4958) + nrNII6584) + nrNIII6548) + nr_Hd_4101) + nr_Hg_4340) + nr_Hb_4861) + nr_Ha_6562) + nr_HeI_4143) + nr_HeI_4471) + nr_HeII_4685) + nr_HeI_5877) + nr_HeI_6680) + nr_[O III]_4363) + nr_[O I]_6300) + nr_[O I]_6363) + nr_[S II]_6716) + nr_[S II]_6730</caption><thead><tr><th>Component</th><th>Parameter</th><th>Thawed</th><th>Value</th><th>Min</th><th>Max</th><th>Units</th></tr></thead><tbody><tr><th class=\"model-odd\" scope=\"rowgroup\" rowspan=4>OIII5007</th><td>ampl</td><td><input disabled type=\"checkbox\" checked></input></td><td>10.0</td><td>0.0</td><td>1000.0</td><td></td></tr><tr><td>pos</td><td><input disabled type=\"checkbox\"></input></td><td>5006.803341</td><td>0.0</td><td>MAX</td><td>angstroms</td></tr><tr><td>offs_kms</td><td><input disabled type=\"checkbox\" checked></input></td><td>0.0</td><td>-1000.0</td><td>10000.0</td><td>km/s</td></tr><tr><td>fwhm</td><td><input disabled type=\"checkbox\" checked></input></td><td>100.0</td><td>0.0</td><td>1000.0</td><td>km/s</td></tr><tr class=\"block\"><th class=\"model-even\" scope=\"rowgroup\" rowspan=4>nrOIII4958</th><td>ampl</td><td>linked</td><td>3.3333333333333335</td><td colspan=2>&#8656; OIII5007.ampl / 3.0</td><td></td></tr><tr><td>pos</td><td><input disabled type=\"checkbox\"></input></td><td>4958.896072</td><td>0.0</td><td>MAX</td><td>angstroms</td></tr><tr><td>offs_kms</td><td>linked</td><td>0.0</td><td colspan=2>&#8656; OIII5007.offs_kms</td><td>km/s</td></tr><tr><td>fwhm</td><td>linked</td><td>100.0</td><td colspan=2>&#8656; OIII5007.fwhm</td><td>km/s</td></tr><tr class=\"block\"><th class=\"model-odd\" scope=\"rowgroup\" rowspan=4>nrNII6584</th><td>ampl</td><td><input disabled type=\"checkbox\" checked></input></td><td>2.0</td><td>0.0</td><td>1000.0</td><td></td></tr><tr><td>pos</td><td><input disabled type=\"checkbox\"></input></td><td>6583.46</td><td>0.0</td><td>MAX</td><td>angstroms</td></tr><tr><td>offs_kms</td><td>linked</td><td>0.0</td><td colspan=2>&#8656; OIII5007.offs_kms</td><td>km/s</td></tr><tr><td>fwhm</td><td>linked</td><td>100.0</td><td colspan=2>&#8656; OIII5007.fwhm</td><td>km/s</td></tr><tr class=\"block\"><th class=\"model-even\" scope=\"rowgroup\" rowspan=4>nrNIII6548</th><td>ampl</td><td>linked</td><td>0.6666666666666666</td><td colspan=2>&#8656; nrNII6584.ampl / 3.0</td><td></td></tr><tr><td>pos</td><td><input disabled type=\"checkbox\"></input></td><td>6548.05</td><td>0.0</td><td>MAX</td><td>angstroms</td></tr><tr><td>offs_kms</td><td>linked</td><td>0.0</td><td colspan=2>&#8656; OIII5007.offs_kms</td><td>km/s</td></tr><tr><td>fwhm</td><td>linked</td><td>100.0</td><td colspan=2>&#8656; OIII5007.fwhm</td><td>km/s</td></tr><tr class=\"block\"><th class=\"model-odd\" scope=\"rowgroup\" rowspan=4>nr_Hd_4101</th><td>ampl</td><td><input disabled type=\"checkbox\" checked></input></td><td>2.0</td><td>0.0</td><td>1000.0</td><td></td></tr><tr><td>pos</td><td><input disabled type=\"checkbox\"></input></td><td>4101.742</td><td>0.0</td><td>MAX</td><td>angstroms</td></tr><tr><td>offs_kms</td><td>linked</td><td>0.0</td><td colspan=2>&#8656; OIII5007.offs_kms</td><td>km/s</td></tr><tr><td>fwhm</td><td>linked</td><td>100.0</td><td colspan=2>&#8656; OIII5007.fwhm</td><td>km/s</td></tr><tr class=\"block\"><th class=\"model-even\" scope=\"rowgroup\" rowspan=4>nr_Hg_4340</th><td>ampl</td><td><input disabled type=\"checkbox\" checked></input></td><td>2.0</td><td>0.0</td><td>1000.0</td><td></td></tr><tr><td>pos</td><td><input disabled type=\"checkbox\"></input></td><td>4340.471</td><td>0.0</td><td>MAX</td><td>angstroms</td></tr><tr><td>offs_kms</td><td>linked</td><td>0.0</td><td colspan=2>&#8656; OIII5007.offs_kms</td><td>km/s</td></tr><tr><td>fwhm</td><td>linked</td><td>100.0</td><td colspan=2>&#8656; OIII5007.fwhm</td><td>km/s</td></tr><tr class=\"block\"><th class=\"model-odd\" scope=\"rowgroup\" rowspan=4>nr_Hb_4861</th><td>ampl</td><td><input disabled type=\"checkbox\" checked></input></td><td>2.0</td><td>0.0</td><td>1000.0</td><td></td></tr><tr><td>pos</td><td><input disabled type=\"checkbox\"></input></td><td>4861.333</td><td>0.0</td><td>MAX</td><td>angstroms</td></tr><tr><td>offs_kms</td><td>linked</td><td>0.0</td><td colspan=2>&#8656; OIII5007.offs_kms</td><td>km/s</td></tr><tr><td>fwhm</td><td>linked</td><td>100.0</td><td colspan=2>&#8656; OIII5007.fwhm</td><td>km/s</td></tr><tr class=\"block\"><th class=\"model-even\" scope=\"rowgroup\" rowspan=4>nr_Ha_6562</th><td>ampl</td><td><input disabled type=\"checkbox\" checked></input></td><td>2.0</td><td>0.0</td><td>1000.0</td><td></td></tr><tr><td>pos</td><td><input disabled type=\"checkbox\"></input></td><td>6562.82</td><td>0.0</td><td>MAX</td><td>angstroms</td></tr><tr><td>offs_kms</td><td>linked</td><td>0.0</td><td colspan=2>&#8656; OIII5007.offs_kms</td><td>km/s</td></tr><tr><td>fwhm</td><td>linked</td><td>100.0</td><td colspan=2>&#8656; OIII5007.fwhm</td><td>km/s</td></tr><tr class=\"block\"><th class=\"model-odd\" scope=\"rowgroup\" rowspan=4>nr_HeI_4143</th><td>ampl</td><td><input disabled type=\"checkbox\" checked></input></td><td>2.0</td><td>0.0</td><td>1000.0</td><td></td></tr><tr><td>pos</td><td><input disabled type=\"checkbox\"></input></td><td>4143.761</td><td>0.0</td><td>MAX</td><td>angstroms</td></tr><tr><td>offs_kms</td><td>linked</td><td>0.0</td><td colspan=2>&#8656; OIII5007.offs_kms</td><td>km/s</td></tr><tr><td>fwhm</td><td>linked</td><td>100.0</td><td colspan=2>&#8656; OIII5007.fwhm</td><td>km/s</td></tr><tr class=\"block\"><th class=\"model-even\" scope=\"rowgroup\" rowspan=4>nr_HeI_4471</th><td>ampl</td><td><input disabled type=\"checkbox\" checked></input></td><td>2.0</td><td>0.0</td><td>1000.0</td><td></td></tr><tr><td>pos</td><td><input disabled type=\"checkbox\"></input></td><td>4471.479</td><td>0.0</td><td>MAX</td><td>angstroms</td></tr><tr><td>offs_kms</td><td>linked</td><td>0.0</td><td colspan=2>&#8656; OIII5007.offs_kms</td><td>km/s</td></tr><tr><td>fwhm</td><td>linked</td><td>100.0</td><td colspan=2>&#8656; OIII5007.fwhm</td><td>km/s</td></tr><tr class=\"block\"><th class=\"model-odd\" scope=\"rowgroup\" rowspan=4>nr_HeII_4685</th><td>ampl</td><td><input disabled type=\"checkbox\" checked></input></td><td>2.0</td><td>0.0</td><td>1000.0</td><td></td></tr><tr><td>pos</td><td><input disabled type=\"checkbox\"></input></td><td>4685.71</td><td>0.0</td><td>MAX</td><td>angstroms</td></tr><tr><td>offs_kms</td><td>linked</td><td>0.0</td><td colspan=2>&#8656; OIII5007.offs_kms</td><td>km/s</td></tr><tr><td>fwhm</td><td>linked</td><td>100.0</td><td colspan=2>&#8656; OIII5007.fwhm</td><td>km/s</td></tr><tr class=\"block\"><th class=\"model-even\" scope=\"rowgroup\" rowspan=4>nr_HeI_5877</th><td>ampl</td><td><input disabled type=\"checkbox\" checked></input></td><td>2.0</td><td>0.0</td><td>1000.0</td><td></td></tr><tr><td>pos</td><td><input disabled type=\"checkbox\"></input></td><td>5877.2539</td><td>0.0</td><td>MAX</td><td>angstroms</td></tr><tr><td>offs_kms</td><td>linked</td><td>0.0</td><td colspan=2>&#8656; OIII5007.offs_kms</td><td>km/s</td></tr><tr><td>fwhm</td><td>linked</td><td>100.0</td><td colspan=2>&#8656; OIII5007.fwhm</td><td>km/s</td></tr><tr class=\"block\"><th class=\"model-odd\" scope=\"rowgroup\" rowspan=4>nr_HeI_6680</th><td>ampl</td><td><input disabled type=\"checkbox\" checked></input></td><td>2.0</td><td>0.0</td><td>1000.0</td><td></td></tr><tr><td>pos</td><td><input disabled type=\"checkbox\"></input></td><td>6680.0078</td><td>0.0</td><td>MAX</td><td>angstroms</td></tr><tr><td>offs_kms</td><td>linked</td><td>0.0</td><td colspan=2>&#8656; OIII5007.offs_kms</td><td>km/s</td></tr><tr><td>fwhm</td><td>linked</td><td>100.0</td><td colspan=2>&#8656; OIII5007.fwhm</td><td>km/s</td></tr><tr class=\"block\"><th class=\"model-even\" scope=\"rowgroup\" rowspan=4>nr_[O III]_4363</th><td>ampl</td><td><input disabled type=\"checkbox\" checked></input></td><td>2.0</td><td>0.0</td><td>1000.0</td><td></td></tr><tr><td>pos</td><td><input disabled type=\"checkbox\"></input></td><td>4363.213686</td><td>0.0</td><td>MAX</td><td>angstroms</td></tr><tr><td>offs_kms</td><td>linked</td><td>0.0</td><td colspan=2>&#8656; OIII5007.offs_kms</td><td>km/s</td></tr><tr><td>fwhm</td><td>linked</td><td>100.0</td><td colspan=2>&#8656; OIII5007.fwhm</td><td>km/s</td></tr><tr class=\"block\"><th class=\"model-odd\" scope=\"rowgroup\" rowspan=4>nr_[O I]_6300</th><td>ampl</td><td><input disabled type=\"checkbox\" checked></input></td><td>2.0</td><td>0.0</td><td>1000.0</td><td></td></tr><tr><td>pos</td><td><input disabled type=\"checkbox\"></input></td><td>6300.304</td><td>0.0</td><td>MAX</td><td>angstroms</td></tr><tr><td>offs_kms</td><td>linked</td><td>0.0</td><td colspan=2>&#8656; OIII5007.offs_kms</td><td>km/s</td></tr><tr><td>fwhm</td><td>linked</td><td>100.0</td><td colspan=2>&#8656; OIII5007.fwhm</td><td>km/s</td></tr><tr class=\"block\"><th class=\"model-even\" scope=\"rowgroup\" rowspan=4>nr_[O I]_6363</th><td>ampl</td><td><input disabled type=\"checkbox\" checked></input></td><td>2.0</td><td>0.0</td><td>1000.0</td><td></td></tr><tr><td>pos</td><td><input disabled type=\"checkbox\"></input></td><td>6363.8</td><td>0.0</td><td>MAX</td><td>angstroms</td></tr><tr><td>offs_kms</td><td>linked</td><td>0.0</td><td colspan=2>&#8656; OIII5007.offs_kms</td><td>km/s</td></tr><tr><td>fwhm</td><td>linked</td><td>100.0</td><td colspan=2>&#8656; OIII5007.fwhm</td><td>km/s</td></tr><tr class=\"block\"><th class=\"model-odd\" scope=\"rowgroup\" rowspan=4>nr_[S II]_6716</th><td>ampl</td><td><input disabled type=\"checkbox\" checked></input></td><td>2.0</td><td>0.0</td><td>1000.0</td><td></td></tr><tr><td>pos</td><td><input disabled type=\"checkbox\"></input></td><td>6716.44</td><td>0.0</td><td>MAX</td><td>angstroms</td></tr><tr><td>offs_kms</td><td>linked</td><td>0.0</td><td colspan=2>&#8656; OIII5007.offs_kms</td><td>km/s</td></tr><tr><td>fwhm</td><td>linked</td><td>100.0</td><td colspan=2>&#8656; OIII5007.fwhm</td><td>km/s</td></tr><tr class=\"block\"><th class=\"model-even\" scope=\"rowgroup\" rowspan=4>nr_[S II]_6730</th><td>ampl</td><td><input disabled type=\"checkbox\" checked></input></td><td>2.0</td><td>0.0</td><td>1000.0</td><td></td></tr><tr><td>pos</td><td><input disabled type=\"checkbox\"></input></td><td>6730.81</td><td>0.0</td><td>MAX</td><td>angstroms</td></tr><tr><td>offs_kms</td><td>linked</td><td>0.0</td><td colspan=2>&#8656; OIII5007.offs_kms</td><td>km/s</td></tr><tr><td>fwhm</td><td>linked</td><td>100.0</td><td colspan=2>&#8656; OIII5007.fwhm</td><td>km/s</td></tr></tbody></table></details></div>"
      ],
      "text/plain": [
       "<BinaryOpModel model instance '(((((((((((((((((OIII5007 + nrOIII4958) + nrNII6584) + nrNIII6548) + nr_Hd_4101) + nr_Hg_4340) + nr_Hb_4861) + nr_Ha_6562) + nr_HeI_4143) + nr_HeI_4471) + nr_HeII_4685) + nr_HeI_5877) + nr_HeI_6680) + nr_[O III]_4363) + nr_[O I]_6300) + nr_[O I]_6363) + nr_[S II]_6716) + nr_[S II]_6730)'>"
      ]
     },
     "execution_count": 8,
     "metadata": {},
     "output_type": "execute_result"
    }
   ],
   "source": [
    "croad"
   ]
  },
  {
   "cell_type": "code",
   "execution_count": 10,
   "id": "aee4947a-06a6-4720-b200-d00edacd6be2",
   "metadata": {},
   "outputs": [],
   "source": [
    "import pandas as pd"
   ]
  },
  {
   "cell_type": "code",
   "execution_count": 11,
   "id": "55ae6b3f-f1c5-43ea-b741-22c33a044b27",
   "metadata": {},
   "outputs": [],
   "source": [
    "df1=pd.read_csv('/home/yukawa/Downloads/hydrogen.csv')"
   ]
  },
  {
   "cell_type": "code",
   "execution_count": 12,
   "id": "23737803-875c-4d1d-843c-fe5cef21d528",
   "metadata": {},
   "outputs": [],
   "source": [
    "df2=pd.read_csv('/home/yukawa/Downloads/helium.csv')\n"
   ]
  },
  {
   "cell_type": "code",
   "execution_count": 13,
   "id": "f0edb8e9-2e86-4f4e-80c0-de7f37d2f411",
   "metadata": {},
   "outputs": [],
   "source": [
    "files=['/home/yukawa/Downloads/hydrogen.csv']\n"
   ]
  },
  {
   "cell_type": "code",
   "execution_count": 14,
   "id": "1aed9666-9146-4ead-9a7d-21458047710e",
   "metadata": {},
   "outputs": [],
   "source": [
    "F=[]\n",
    "for file in files:\n",
    "    F.append(pd.read_csv(file))\n",
    "    "
   ]
  },
  {
   "cell_type": "code",
   "execution_count": 15,
   "id": "4575fb03-56da-4c44-ab23-75e148099d47",
   "metadata": {},
   "outputs": [],
   "source": [
    "df=pd.concat(F)"
   ]
  },
  {
   "cell_type": "code",
   "execution_count": 16,
   "id": "b026f8a9-81fd-4240-9914-ff2ba9113cd7",
   "metadata": {},
   "outputs": [
    {
     "data": {
      "text/html": [
       "<div>\n",
       "<style scoped>\n",
       "    .dataframe tbody tr th:only-of-type {\n",
       "        vertical-align: middle;\n",
       "    }\n",
       "\n",
       "    .dataframe tbody tr th {\n",
       "        vertical-align: top;\n",
       "    }\n",
       "\n",
       "    .dataframe thead th {\n",
       "        text-align: right;\n",
       "    }\n",
       "</style>\n",
       "<table border=\"1\" class=\"dataframe\">\n",
       "  <thead>\n",
       "    <tr style=\"text-align: right;\">\n",
       "      <th></th>\n",
       "      <th>line</th>\n",
       "      <th>position</th>\n",
       "    </tr>\n",
       "  </thead>\n",
       "  <tbody>\n",
       "    <tr>\n",
       "      <th>0</th>\n",
       "      <td>Heps</td>\n",
       "      <td>3970.079</td>\n",
       "    </tr>\n",
       "    <tr>\n",
       "      <th>1</th>\n",
       "      <td>Hd</td>\n",
       "      <td>4101.742</td>\n",
       "    </tr>\n",
       "    <tr>\n",
       "      <th>2</th>\n",
       "      <td>Hg</td>\n",
       "      <td>4340.471</td>\n",
       "    </tr>\n",
       "    <tr>\n",
       "      <th>3</th>\n",
       "      <td>Hb</td>\n",
       "      <td>4861.333</td>\n",
       "    </tr>\n",
       "    <tr>\n",
       "      <th>4</th>\n",
       "      <td>Ha</td>\n",
       "      <td>6562.820</td>\n",
       "    </tr>\n",
       "    <tr>\n",
       "      <th>5</th>\n",
       "      <td>Pa14</td>\n",
       "      <td>8598.392</td>\n",
       "    </tr>\n",
       "    <tr>\n",
       "      <th>6</th>\n",
       "      <td>Pa13</td>\n",
       "      <td>8665.019</td>\n",
       "    </tr>\n",
       "    <tr>\n",
       "      <th>7</th>\n",
       "      <td>Pa12</td>\n",
       "      <td>8750.472</td>\n",
       "    </tr>\n",
       "    <tr>\n",
       "      <th>8</th>\n",
       "      <td>Pa11</td>\n",
       "      <td>8862.782</td>\n",
       "    </tr>\n",
       "    <tr>\n",
       "      <th>9</th>\n",
       "      <td>Pa10</td>\n",
       "      <td>9014.909</td>\n",
       "    </tr>\n",
       "    <tr>\n",
       "      <th>10</th>\n",
       "      <td>Pa9</td>\n",
       "      <td>9229.014</td>\n",
       "    </tr>\n",
       "    <tr>\n",
       "      <th>11</th>\n",
       "      <td>Pae</td>\n",
       "      <td>9545.969</td>\n",
       "    </tr>\n",
       "    <tr>\n",
       "      <th>12</th>\n",
       "      <td>Pa􏰏d</td>\n",
       "      <td>10049.368</td>\n",
       "    </tr>\n",
       "    <tr>\n",
       "      <th>13</th>\n",
       "      <td>Pag</td>\n",
       "      <td>10938.086</td>\n",
       "    </tr>\n",
       "  </tbody>\n",
       "</table>\n",
       "</div>"
      ],
      "text/plain": [
       "    line   position\n",
       "0   Heps   3970.079\n",
       "1     Hd   4101.742\n",
       "2     Hg   4340.471\n",
       "3     Hb   4861.333\n",
       "4     Ha   6562.820\n",
       "5   Pa14   8598.392\n",
       "6   Pa13   8665.019\n",
       "7   Pa12   8750.472\n",
       "8   Pa11   8862.782\n",
       "9   Pa10   9014.909\n",
       "10   Pa9   9229.014\n",
       "11   Pae   9545.969\n",
       "12  Pa􏰏d  10049.368\n",
       "13   Pag  10938.086"
      ]
     },
     "execution_count": 16,
     "metadata": {},
     "output_type": "execute_result"
    }
   ],
   "source": [
    "df.sort_values(by='position')"
   ]
  },
  {
   "cell_type": "code",
   "execution_count": null,
   "id": "e0370ace-f27b-4a4b-9d77-a84f74bf74b1",
   "metadata": {},
   "outputs": [],
   "source": [
    "create_model(files=['1.csv','2.csv'], prefix, fixed_oIII)\n",
    "if len files > 1\n"
   ]
  },
  {
   "cell_type": "code",
   "execution_count": 9,
   "id": "ec12450d-1440-4ba8-a3ad-e3c84c91daaf",
   "metadata": {},
   "outputs": [],
   "source": [
    "import pandas as pd"
   ]
  },
  {
   "cell_type": "code",
   "execution_count": 10,
   "id": "0621e6a0-1e8f-4deb-b06c-7c4262466c8e",
   "metadata": {},
   "outputs": [],
   "source": [
    "df=pd.read_csv('/home/yukawa/Downloads/rakshit.csv')"
   ]
  },
  {
   "cell_type": "code",
   "execution_count": 11,
   "id": "f7c9db7c-7591-45a1-a106-021c8535b719",
   "metadata": {},
   "outputs": [
    {
     "data": {
      "text/html": [
       "<div>\n",
       "<style scoped>\n",
       "    .dataframe tbody tr th:only-of-type {\n",
       "        vertical-align: middle;\n",
       "    }\n",
       "\n",
       "    .dataframe tbody tr th {\n",
       "        vertical-align: top;\n",
       "    }\n",
       "\n",
       "    .dataframe thead th {\n",
       "        text-align: right;\n",
       "    }\n",
       "</style>\n",
       "<table border=\"1\" class=\"dataframe\">\n",
       "  <thead>\n",
       "    <tr style=\"text-align: right;\">\n",
       "      <th></th>\n",
       "      <th>Unnamed: 0</th>\n",
       "      <th>rfe</th>\n",
       "      <th>hbfwhm</th>\n",
       "    </tr>\n",
       "  </thead>\n",
       "  <tbody>\n",
       "    <tr>\n",
       "      <th>count</th>\n",
       "      <td>11101.000000</td>\n",
       "      <td>11101.000000</td>\n",
       "      <td>11101.000000</td>\n",
       "    </tr>\n",
       "    <tr>\n",
       "      <th>mean</th>\n",
       "      <td>5550.000000</td>\n",
       "      <td>0.647767</td>\n",
       "      <td>1634.189082</td>\n",
       "    </tr>\n",
       "    <tr>\n",
       "      <th>std</th>\n",
       "      <td>3204.727003</td>\n",
       "      <td>0.403370</td>\n",
       "      <td>430.475523</td>\n",
       "    </tr>\n",
       "    <tr>\n",
       "      <th>min</th>\n",
       "      <td>0.000000</td>\n",
       "      <td>0.000000</td>\n",
       "      <td>308.000000</td>\n",
       "    </tr>\n",
       "    <tr>\n",
       "      <th>25%</th>\n",
       "      <td>2775.000000</td>\n",
       "      <td>0.370000</td>\n",
       "      <td>1371.000000</td>\n",
       "    </tr>\n",
       "    <tr>\n",
       "      <th>50%</th>\n",
       "      <td>5550.000000</td>\n",
       "      <td>0.600000</td>\n",
       "      <td>1737.000000</td>\n",
       "    </tr>\n",
       "    <tr>\n",
       "      <th>75%</th>\n",
       "      <td>8325.000000</td>\n",
       "      <td>0.870000</td>\n",
       "      <td>1980.000000</td>\n",
       "    </tr>\n",
       "    <tr>\n",
       "      <th>max</th>\n",
       "      <td>11100.000000</td>\n",
       "      <td>4.560000</td>\n",
       "      <td>2200.000000</td>\n",
       "    </tr>\n",
       "  </tbody>\n",
       "</table>\n",
       "</div>"
      ],
      "text/plain": [
       "         Unnamed: 0           rfe        hbfwhm\n",
       "count  11101.000000  11101.000000  11101.000000\n",
       "mean    5550.000000      0.647767   1634.189082\n",
       "std     3204.727003      0.403370    430.475523\n",
       "min        0.000000      0.000000    308.000000\n",
       "25%     2775.000000      0.370000   1371.000000\n",
       "50%     5550.000000      0.600000   1737.000000\n",
       "75%     8325.000000      0.870000   1980.000000\n",
       "max    11100.000000      4.560000   2200.000000"
      ]
     },
     "execution_count": 11,
     "metadata": {},
     "output_type": "execute_result"
    }
   ],
   "source": [
    "df.describe()"
   ]
  },
  {
   "cell_type": "code",
   "execution_count": 5,
   "id": "e39612ed-0605-4f0c-8d8d-0b6fde76ad3f",
   "metadata": {},
   "outputs": [
    {
     "name": "stdout",
     "output_type": "stream",
     "text": [
      "0\n",
      "1\n",
      "2\n"
     ]
    }
   ],
   "source": [
    "i=0\n",
    "while i <=3:\n",
    "    print(i)\n",
    "    if i==2:\n",
    "        break\n",
    "    i+=1"
   ]
  },
  {
   "cell_type": "code",
   "execution_count": null,
   "id": "c694b4a7-9eb8-4081-b6bb-20b5338015f4",
   "metadata": {},
   "outputs": [],
   "source": []
  }
 ],
 "metadata": {
  "kernelspec": {
   "display_name": "Python 3 (ipykernel)",
   "language": "python",
   "name": "python3"
  },
  "language_info": {
   "codemirror_mode": {
    "name": "ipython",
    "version": 3
   },
   "file_extension": ".py",
   "mimetype": "text/x-python",
   "name": "python",
   "nbconvert_exporter": "python",
   "pygments_lexer": "ipython3",
   "version": "3.9.7"
  }
 },
 "nbformat": 4,
 "nbformat_minor": 5
}
