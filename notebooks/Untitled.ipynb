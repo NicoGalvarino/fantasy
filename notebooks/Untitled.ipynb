{
 "cells": [
  {
   "cell_type": "markdown",
   "id": "7b032464-52a6-42d4-ab90-86d3b05c1042",
   "metadata": {},
   "source": [
    "# Introduction"
   ]
  },
  {
   "cell_type": "code",
   "execution_count": 1,
   "id": "b483aae1-62cc-4d5b-9672-94ab13a48328",
   "metadata": {},
   "outputs": [
    {
     "ename": "ImportError",
     "evalue": "cannot import name 'make_path' from 'fantasy.tools' (/home/yukawa/anaconda3/lib/python3.9/site-packages/fantasy/tools.py)",
     "output_type": "error",
     "traceback": [
      "\u001b[0;31m---------------------------------------------------------------------------\u001b[0m",
      "\u001b[0;31mImportError\u001b[0m                               Traceback (most recent call last)",
      "\u001b[0;32m/tmp/ipykernel_79460/1511110072.py\u001b[0m in \u001b[0;36m<module>\u001b[0;34m\u001b[0m\n\u001b[1;32m      1\u001b[0m \u001b[0;32mfrom\u001b[0m \u001b[0mfantasy\u001b[0m\u001b[0;34m.\u001b[0m\u001b[0mtools\u001b[0m \u001b[0;32mimport\u001b[0m \u001b[0mread_sdss\u001b[0m\u001b[0;34m\u001b[0m\u001b[0;34m\u001b[0m\u001b[0m\n\u001b[0;32m----> 2\u001b[0;31m \u001b[0;32mfrom\u001b[0m \u001b[0mfantasy\u001b[0m\u001b[0;34m.\u001b[0m\u001b[0mtools\u001b[0m \u001b[0;32mimport\u001b[0m \u001b[0mmake_path\u001b[0m\u001b[0;34m,\u001b[0m \u001b[0mmake_tied_model\u001b[0m\u001b[0;34m,\u001b[0m \u001b[0mmake_broad_model\u001b[0m\u001b[0;34m,\u001b[0m \u001b[0mFeII\u001b[0m\u001b[0;34m\u001b[0m\u001b[0;34m\u001b[0m\u001b[0m\n\u001b[0m",
      "\u001b[0;31mImportError\u001b[0m: cannot import name 'make_path' from 'fantasy.tools' (/home/yukawa/anaconda3/lib/python3.9/site-packages/fantasy/tools.py)"
     ]
    }
   ],
   "source": [
    "from fantasy.tools import read_sdss\n",
    "from fantasy. import make_path, make_tied_model, make_broad_model, FeII"
   ]
  },
  {
   "cell_type": "code",
   "execution_count": null,
   "id": "b6b2b6e1-10f2-453a-bd60-675765f09e7b",
   "metadata": {},
   "outputs": [],
   "source": []
  }
 ],
 "metadata": {
  "kernelspec": {
   "display_name": "Python 3 (ipykernel)",
   "language": "python",
   "name": "python3"
  },
  "language_info": {
   "codemirror_mode": {
    "name": "ipython",
    "version": 3
   },
   "file_extension": ".py",
   "mimetype": "text/x-python",
   "name": "python",
   "nbconvert_exporter": "python",
   "pygments_lexer": "ipython3",
   "version": "3.9.7"
  }
 },
 "nbformat": 4,
 "nbformat_minor": 5
}
