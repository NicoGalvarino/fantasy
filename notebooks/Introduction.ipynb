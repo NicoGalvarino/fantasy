{
 "cells": [
  {
   "cell_type": "markdown",
   "id": "7b032464-52a6-42d4-ab90-86d3b05c1042",
   "metadata": {},
   "source": [
    "# Introduction"
   ]
  },
  {
   "cell_type": "code",
   "execution_count": 4,
   "id": "b483aae1-62cc-4d5b-9672-94ab13a48328",
   "metadata": {},
   "outputs": [],
   "source": [
    "from fantasy.tools import read_sdss\n",
    "from fantasy.models import make_path, FeII"
   ]
  },
  {
   "cell_type": "code",
   "execution_count": null,
   "id": "b6b2b6e1-10f2-453a-bd60-675765f09e7b",
   "metadata": {},
   "outputs": [],
   "source": []
  }
 ],
 "metadata": {
  "kernelspec": {
   "display_name": "Python 3 (ipykernel)",
   "language": "python",
   "name": "python3"
  },
  "language_info": {
   "codemirror_mode": {
    "name": "ipython",
    "version": 3
   },
   "file_extension": ".py",
   "mimetype": "text/x-python",
   "name": "python",
   "nbconvert_exporter": "python",
   "pygments_lexer": "ipython3",
   "version": "3.9.7"
  }
 },
 "nbformat": 4,
 "nbformat_minor": 5
}
